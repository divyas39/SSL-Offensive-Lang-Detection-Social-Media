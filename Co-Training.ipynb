{
 "cells": [
  {
   "cell_type": "code",
   "execution_count": 9,
   "id": "stable-tribe",
   "metadata": {},
   "outputs": [],
   "source": [
    "import classifiers\n",
    "from sklearn.linear_model import LogisticRegression\n",
    "from sklearn.naive_bayes import GaussianNB\n",
    "from sklearn.svm import SVC\n",
    "from sklearn.model_selection import train_test_split\n",
    "import numpy as np\n",
    "import pandas as pd\n",
    "import pickle"
   ]
  },
  {
   "cell_type": "markdown",
   "id": "horizontal-magazine",
   "metadata": {},
   "source": [
    "## Load Models"
   ]
  },
  {
   "cell_type": "markdown",
   "id": "thorough-monitor",
   "metadata": {},
   "source": [
    "### TF-IDF"
   ]
  },
  {
   "cell_type": "code",
   "execution_count": 11,
   "id": "sound-fancy",
   "metadata": {},
   "outputs": [],
   "source": [
    "with open (\"tfidf.pk\", 'rb') as fin:\n",
    "    tfidf = pickle.load(fin)"
   ]
  },
  {
   "cell_type": "code",
   "execution_count": 12,
   "id": "apparent-learning",
   "metadata": {},
   "outputs": [
    {
     "data": {
      "text/plain": [
       "TfidfVectorizer(max_df=5, ngram_range=(1, 3), stop_words='english')"
      ]
     },
     "execution_count": 12,
     "metadata": {},
     "output_type": "execute_result"
    }
   ],
   "source": [
    "tfidf"
   ]
  },
  {
   "cell_type": "markdown",
   "id": "linear-award",
   "metadata": {},
   "source": [
    "### Word2Vec CBOW"
   ]
  },
  {
   "cell_type": "code",
   "execution_count": 14,
   "id": "substantial-postage",
   "metadata": {},
   "outputs": [],
   "source": [
    "with open (\"w2v_cbow.pk\", 'rb') as fin:\n",
    "    cbow = pickle.load(fin)"
   ]
  },
  {
   "cell_type": "code",
   "execution_count": 15,
   "id": "preliminary-diameter",
   "metadata": {},
   "outputs": [
    {
     "data": {
      "text/plain": [
       "array([ 0.08266962, -0.0510025 , -0.14384806, -0.20676684, -0.0150829 ,\n",
       "       -0.14188373, -0.0498458 , -0.07315213,  0.09609771,  0.27924392,\n",
       "       -0.13390553,  0.04456788, -0.05224732, -0.01276228,  0.05903243,\n",
       "       -0.00231755,  0.17616057,  0.15871191,  0.22587109,  0.06615329,\n",
       "       -0.16587675,  0.11609097, -0.00953996,  0.11492729, -0.04434949,\n",
       "       -0.13707896, -0.03670287, -0.14368547, -0.10731274,  0.3065551 ,\n",
       "       -0.02827144,  0.07733524], dtype=float32)"
      ]
     },
     "execution_count": 15,
     "metadata": {},
     "output_type": "execute_result"
    }
   ],
   "source": [
    "cbow"
   ]
  },
  {
   "cell_type": "markdown",
   "id": "identified-girlfriend",
   "metadata": {},
   "source": [
    "### Word2Vec SkipGram"
   ]
  },
  {
   "cell_type": "code",
   "execution_count": 16,
   "id": "native-weather",
   "metadata": {},
   "outputs": [],
   "source": [
    "with open (\"w2v_sg.pk\", \"rb\") as fin:\n",
    "    skg = pickle.load(fin)"
   ]
  },
  {
   "cell_type": "code",
   "execution_count": 17,
   "id": "appropriate-enforcement",
   "metadata": {},
   "outputs": [
    {
     "data": {
      "text/plain": [
       "array([ 0.10540247,  0.00649637, -0.04158486, -0.0870658 ,  0.04231866,\n",
       "       -0.02794513, -0.05232182,  0.02245027, -0.07803168,  0.07128473,\n",
       "       -0.08157565,  0.00467052,  0.05193534,  0.00040218,  0.01184358,\n",
       "        0.068593  ,  0.142206  ,  0.06369126, -0.04586295,  0.03145951,\n",
       "       -0.02454194,  0.03166866,  0.08151402, -0.11906867,  0.03597011,\n",
       "       -0.06184277,  0.00555149, -0.07806904, -0.0264233 ,  0.09112785,\n",
       "        0.03857002, -0.0733909 ], dtype=float32)"
      ]
     },
     "execution_count": 17,
     "metadata": {},
     "output_type": "execute_result"
    }
   ],
   "source": [
    "skg"
   ]
  },
  {
   "cell_type": "code",
   "execution_count": null,
   "id": "objective-gravity",
   "metadata": {},
   "outputs": [],
   "source": []
  }
 ],
 "metadata": {
  "kernelspec": {
   "display_name": "Python 3",
   "language": "python",
   "name": "python3"
  },
  "language_info": {
   "codemirror_mode": {
    "name": "ipython",
    "version": 3
   },
   "file_extension": ".py",
   "mimetype": "text/x-python",
   "name": "python",
   "nbconvert_exporter": "python",
   "pygments_lexer": "ipython3",
   "version": "3.8.5"
  }
 },
 "nbformat": 4,
 "nbformat_minor": 5
}
